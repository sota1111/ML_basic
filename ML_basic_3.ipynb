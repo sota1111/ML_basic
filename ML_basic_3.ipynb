{
  "nbformat": 4,
  "nbformat_minor": 0,
  "metadata": {
    "colab": {
      "name": "ML_basic_3.ipynb",
      "provenance": [],
      "authorship_tag": "ABX9TyPZRWFcNxC3H9rPOnpkGVbI",
      "include_colab_link": true
    },
    "kernelspec": {
      "name": "python3",
      "display_name": "Python 3"
    },
    "language_info": {
      "name": "python"
    }
  },
  "cells": [
    {
      "cell_type": "markdown",
      "metadata": {
        "id": "view-in-github",
        "colab_type": "text"
      },
      "source": [
        "<a href=\"https://colab.research.google.com/github/sota1111/ML_basic/blob/main/ML_basic_3.ipynb\" target=\"_parent\"><img src=\"https://colab.research.google.com/assets/colab-badge.svg\" alt=\"Open In Colab\"/></a>"
      ]
    },
    {
      "cell_type": "markdown",
      "source": [
        "# 3.1 教師なし学習の種類"
      ],
      "metadata": {
        "id": "hqllTLJ5e1l-"
      }
    },
    {
      "cell_type": "code",
      "source": [
        ""
      ],
      "metadata": {
        "id": "J8aMdDSfe5WK"
      },
      "execution_count": null,
      "outputs": []
    }
  ]
}