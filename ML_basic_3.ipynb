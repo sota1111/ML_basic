{
  "nbformat": 4,
  "nbformat_minor": 0,
  "metadata": {
    "colab": {
      "name": "ML_basic_3.ipynb",
      "provenance": [],
      "authorship_tag": "ABX9TyMvLfBWVdPdx0UiexKR4K8f",
      "include_colab_link": true
    },
    "kernelspec": {
      "name": "python3",
      "display_name": "Python 3"
    },
    "language_info": {
      "name": "python"
    }
  },
  "cells": [
    {
      "cell_type": "markdown",
      "metadata": {
        "id": "view-in-github",
        "colab_type": "text"
      },
      "source": [
        "<a href=\"https://colab.research.google.com/github/sota1111/ML_basic/blob/main/ML_basic_3.ipynb\" target=\"_parent\"><img src=\"https://colab.research.google.com/assets/colab-badge.svg\" alt=\"Open In Colab\"/></a>"
      ]
    },
    {
      "cell_type": "code",
      "source": [
        "from google.colab import drive\n",
        "drive.mount('/content/drive')"
      ],
      "metadata": {
        "colab": {
          "base_uri": "https://localhost:8080/"
        },
        "id": "J8aMdDSfe5WK",
        "outputId": "9d3d94f9-76aa-4923-aeb9-b42d81af4339"
      },
      "execution_count": 1,
      "outputs": [
        {
          "output_type": "stream",
          "name": "stdout",
          "text": [
            "Mounted at /content/drive\n"
          ]
        }
      ]
    },
    {
      "cell_type": "code",
      "source": [
        "!pip install numpy matplotlib ipython scikit-learn pandas pillow mglearn"
      ],
      "metadata": {
        "colab": {
          "base_uri": "https://localhost:8080/"
        },
        "id": "0OD30ghkfZyM",
        "outputId": "c51b2e72-ad48-4d65-f893-677cbe8a8d75"
      },
      "execution_count": 2,
      "outputs": [
        {
          "output_type": "stream",
          "name": "stdout",
          "text": [
            "Looking in indexes: https://pypi.org/simple, https://us-python.pkg.dev/colab-wheels/public/simple/\n",
            "Requirement already satisfied: numpy in /usr/local/lib/python3.7/dist-packages (1.21.6)\n",
            "Requirement already satisfied: matplotlib in /usr/local/lib/python3.7/dist-packages (3.2.2)\n",
            "Requirement already satisfied: ipython in /usr/local/lib/python3.7/dist-packages (5.5.0)\n",
            "Requirement already satisfied: scikit-learn in /usr/local/lib/python3.7/dist-packages (1.0.2)\n",
            "Requirement already satisfied: pandas in /usr/local/lib/python3.7/dist-packages (1.3.5)\n",
            "Requirement already satisfied: pillow in /usr/local/lib/python3.7/dist-packages (7.1.2)\n",
            "Collecting mglearn\n",
            "  Downloading mglearn-0.1.9.tar.gz (540 kB)\n",
            "\u001b[K     |████████████████████████████████| 540 kB 4.3 MB/s \n",
            "\u001b[?25hRequirement already satisfied: cycler>=0.10 in /usr/local/lib/python3.7/dist-packages (from matplotlib) (0.11.0)\n",
            "Requirement already satisfied: kiwisolver>=1.0.1 in /usr/local/lib/python3.7/dist-packages (from matplotlib) (1.4.2)\n",
            "Requirement already satisfied: python-dateutil>=2.1 in /usr/local/lib/python3.7/dist-packages (from matplotlib) (2.8.2)\n",
            "Requirement already satisfied: pyparsing!=2.0.4,!=2.1.2,!=2.1.6,>=2.0.1 in /usr/local/lib/python3.7/dist-packages (from matplotlib) (3.0.9)\n",
            "Requirement already satisfied: typing-extensions in /usr/local/lib/python3.7/dist-packages (from kiwisolver>=1.0.1->matplotlib) (4.2.0)\n",
            "Requirement already satisfied: six>=1.5 in /usr/local/lib/python3.7/dist-packages (from python-dateutil>=2.1->matplotlib) (1.15.0)\n",
            "Requirement already satisfied: simplegeneric>0.8 in /usr/local/lib/python3.7/dist-packages (from ipython) (0.8.1)\n",
            "Requirement already satisfied: setuptools>=18.5 in /usr/local/lib/python3.7/dist-packages (from ipython) (57.4.0)\n",
            "Requirement already satisfied: prompt-toolkit<2.0.0,>=1.0.4 in /usr/local/lib/python3.7/dist-packages (from ipython) (1.0.18)\n",
            "Requirement already satisfied: decorator in /usr/local/lib/python3.7/dist-packages (from ipython) (4.4.2)\n",
            "Requirement already satisfied: pexpect in /usr/local/lib/python3.7/dist-packages (from ipython) (4.8.0)\n",
            "Requirement already satisfied: pickleshare in /usr/local/lib/python3.7/dist-packages (from ipython) (0.7.5)\n",
            "Requirement already satisfied: pygments in /usr/local/lib/python3.7/dist-packages (from ipython) (2.6.1)\n",
            "Requirement already satisfied: traitlets>=4.2 in /usr/local/lib/python3.7/dist-packages (from ipython) (5.1.1)\n",
            "Requirement already satisfied: wcwidth in /usr/local/lib/python3.7/dist-packages (from prompt-toolkit<2.0.0,>=1.0.4->ipython) (0.2.5)\n",
            "Requirement already satisfied: scipy>=1.1.0 in /usr/local/lib/python3.7/dist-packages (from scikit-learn) (1.4.1)\n",
            "Requirement already satisfied: threadpoolctl>=2.0.0 in /usr/local/lib/python3.7/dist-packages (from scikit-learn) (3.1.0)\n",
            "Requirement already satisfied: joblib>=0.11 in /usr/local/lib/python3.7/dist-packages (from scikit-learn) (1.1.0)\n",
            "Requirement already satisfied: pytz>=2017.3 in /usr/local/lib/python3.7/dist-packages (from pandas) (2022.1)\n",
            "Requirement already satisfied: imageio in /usr/local/lib/python3.7/dist-packages (from mglearn) (2.4.1)\n",
            "Requirement already satisfied: ptyprocess>=0.5 in /usr/local/lib/python3.7/dist-packages (from pexpect->ipython) (0.7.0)\n",
            "Building wheels for collected packages: mglearn\n",
            "  Building wheel for mglearn (setup.py) ... \u001b[?25l\u001b[?25hdone\n",
            "  Created wheel for mglearn: filename=mglearn-0.1.9-py2.py3-none-any.whl size=582639 sha256=9f9fb5ac27d4755f688b75b1e975bcd0af4802a3bb720c84b12bb4a7dd7356de\n",
            "  Stored in directory: /root/.cache/pip/wheels/f1/17/e1/1720d6dcd70187b6b6c3750cb3508798f2b1d57c9d3214b08b\n",
            "Successfully built mglearn\n",
            "Installing collected packages: mglearn\n",
            "Successfully installed mglearn-0.1.9\n"
          ]
        }
      ]
    },
    {
      "cell_type": "code",
      "source": [
        "import numpy as np\n",
        "import matplotlib.pyplot as plt\n",
        "import pandas as pd\n",
        "import mglearn\n",
        "from IPython.display import display"
      ],
      "metadata": {
        "id": "p7hZ9I_DbqUw"
      },
      "execution_count": 3,
      "outputs": []
    },
    {
      "cell_type": "markdown",
      "source": [
        "# 3.1 教師なし学習の種類"
      ],
      "metadata": {
        "id": "hqllTLJ5e1l-"
      }
    },
    {
      "cell_type": "markdown",
      "source": [
        "教師なし変換：元のデータ表現を変換して、人間や他の機械学習アルゴリズムにとって、より分かりやすい新しいデータ表現を作るアルゴリズム  \n",
        "利用法：\n",
        "* 次元削減が一般的。高次元表現を入力として、少量の本質的な特徴を表す。  \n",
        "* そのデータを構成する部品、もしくは成分を見つける。例．文書のトピック抽出\n",
        "* クラスタリングアルゴリズム：データを似たような要素から構成されるグループに分ける"
      ],
      "metadata": {
        "id": "N1JgyJxygVUR"
      }
    },
    {
      "cell_type": "markdown",
      "source": [
        "# 3.2 教師なし学習の難しさ"
      ],
      "metadata": {
        "id": "vjC53FpAgJFH"
      }
    },
    {
      "cell_type": "markdown",
      "source": [
        "アルゴリズムが学習したことの有用性の評価が難しい。  \n",
        "ラベルがないため、アルゴリズムに求めているものを教えることができない。  \n",
        "活用方法\n",
        "- データサイエンティストがデータを理解するために探索的に用いる。\n",
        "- 教師あり学習の前処理アルゴリズムとして用いる。"
      ],
      "metadata": {
        "id": "m27oPTHvYX4K"
      }
    },
    {
      "cell_type": "markdown",
      "source": [
        "# 3.3 前処理とスケール変換"
      ],
      "metadata": {
        "id": "RNA0Kiq3Zm2R"
      }
    },
    {
      "cell_type": "markdown",
      "source": [
        "特徴量ごとにスケールを変換してずらす"
      ],
      "metadata": {
        "id": "7PqnE6ZZb3kY"
      }
    },
    {
      "cell_type": "code",
      "source": [
        "mglearn.plots.plot_scaling()"
      ],
      "metadata": {
        "colab": {
          "base_uri": "https://localhost:8080/",
          "height": 470
        },
        "id": "RalADlC7ZkQ-",
        "outputId": "3afe895a-3f05-46ef-970b-71d6f45f44e9"
      },
      "execution_count": 4,
      "outputs": [
        {
          "output_type": "display_data",
          "data": {
            "text/plain": [
              "<Figure size 1080x576 with 5 Axes>"
            ],
            "image/png": "[encoded data removed]"
          },
          "metadata": {
            "needs_background": "light"
          }
        }
      ]
    },
    {
      "cell_type": "markdown",
      "source": [
        "## 3.3.1 さまざまな前処理"
      ],
      "metadata": {
        "id": "-McCDFJkcOKZ"
      }
    },
    {
      "cell_type": "markdown",
      "source": [
        "上記グラフはデータを標準的なレンジに変換する4つの方法\n",
        "- StandardScaler：ここの特徴量の平均が０で分散が１になるように変換。最大値や最小値がある範囲に入ることを保証しない。\n",
        "- RobustScaler：ここの特徴量の最大値や最小値がある範囲に入るように変換。極端に他の値と異なる値は無視する。\n",
        "- MinMaxScaler：データが０〜1になるように変換する。\n",
        "- Normalizer：個々のデータポイントを特徴量ベクトルがユークリッド長１になるように変換する。つまり、半径１の円に投射する。したがって、全てのデータポイントに対してそれぞれ異なるスケール変換を行う。この変換はベクトルの長さではなく、方法だけが問題になる場合に用いられる。"
      ],
      "metadata": {
        "id": "HBZGcJwbcXbc"
      }
    },
    {
      "cell_type": "markdown",
      "source": [
        "## 3.3.2 データ変換の適用"
      ],
      "metadata": {
        "id": "dxPHQbCKVN9j"
      }
    },
    {
      "cell_type": "code",
      "source": [
        "from sklearn.datasets import load_breast_cancer\n",
        "from sklearn.model_selection import train_test_split\n",
        "cancer = load_breast_cancer()\n",
        "\n",
        "X_train, X_test, y_train, y_test = train_test_split(cancer.data, cancer.target, random_state=1)\n",
        "print(X_train.shape)\n",
        "print(X_test.shape)"
      ],
      "metadata": {
        "colab": {
          "base_uri": "https://localhost:8080/"
        },
        "id": "DKnBTRHJVSOO",
        "outputId": "b96dd74f-5d17-483a-a997-561f6f8811b3"
      },
      "execution_count": 5,
      "outputs": [
        {
          "output_type": "stream",
          "name": "stdout",
          "text": [
            "(426, 30)\n",
            "(143, 30)\n"
          ]
        }
      ]
    },
    {
      "cell_type": "code",
      "source": [
        "from sklearn.preprocessing import MinMaxScaler\n",
        "scaler = MinMaxScaler()\n",
        "# 教師なし学習はX_trainのみを与える\n",
        "scaler.fit(X_train)"
      ],
      "metadata": {
        "colab": {
          "base_uri": "https://localhost:8080/"
        },
        "id": "w-DFaC-4bE1o",
        "outputId": "57313efa-f3f5-495d-f271-15bcd260f239"
      },
      "execution_count": 6,
      "outputs": [
        {
          "output_type": "execute_result",
          "data": {
            "text/plain": [
              "MinMaxScaler()"
            ]
          },
          "metadata": {},
          "execution_count": 6
        }
      ]
    },
    {
      "cell_type": "code",
      "source": [
        "# データを変換\n",
        "X_train_scaled = scaler.transform(X_train)\n",
        "# スケール変換の前後のデータ特性をプリント\n",
        "print(\"transformed shape: {}\".format(X_train_scaled))\n",
        "print(\"per-feature minimum before scaling:\\n {}\".format(X_train.min(axis=0)))\n",
        "print(\"per-feature maximum before scaling:\\n {}\".format(X_train.max(axis=0)))\n",
        "print(\"per-feature minimum after scaling:\\n {}\".format(X_train_scaled.min(axis=0)))\n",
        "print(\"per-feature maximum after scaling:\\n {}\".format(X_train_scaled.max(axis=0)))"
      ],
      "metadata": {
        "colab": {
          "base_uri": "https://localhost:8080/"
        },
        "id": "CEgaIuh5eJwV",
        "outputId": "453b0b7c-0777-4db4-b743-0ba2c88ef7df"
      },
      "execution_count": 8,
      "outputs": [
        {
          "output_type": "stream",
          "name": "stdout",
          "text": [
            "transformed shape: [[0.389938   0.70713561 0.4119273  ... 0.80962199 0.59957224 0.91755006]\n",
            " [0.37763264 0.31755157 0.36790823 ... 0.51168385 0.33174905 0.31598672]\n",
            " [0.36438071 0.35238417 0.35208348 ... 0.55292096 0.3476711  0.28857479]\n",
            " ...\n",
            " [0.48364807 0.50084545 0.48655933 ... 0.65257732 0.4151616  0.84259557]\n",
            " [0.3336173  0.3902604  0.31787713 ... 0.27364261 0.15684411 0.22443516]\n",
            " [0.28628899 0.29455529 0.26826066 ... 0.17226804 0.10004753 0.06938644]]\n",
            "per-feature minimum before scaling:\n",
            " [6.981e+00 9.710e+00 4.379e+01 1.435e+02 5.263e-02 1.938e-02 0.000e+00\n",
            " 0.000e+00 1.060e-01 5.024e-02 1.153e-01 3.602e-01 7.570e-01 6.802e+00\n",
            " 1.713e-03 2.252e-03 0.000e+00 0.000e+00 9.539e-03 8.948e-04 7.930e+00\n",
            " 1.202e+01 5.041e+01 1.852e+02 7.117e-02 2.729e-02 0.000e+00 0.000e+00\n",
            " 1.566e-01 5.521e-02]\n",
            "per-feature maximum before scaling:\n",
            " [2.811e+01 3.928e+01 1.885e+02 2.501e+03 1.634e-01 2.867e-01 4.268e-01\n",
            " 2.012e-01 3.040e-01 9.575e-02 2.873e+00 4.885e+00 2.198e+01 5.422e+02\n",
            " 3.113e-02 1.354e-01 3.960e-01 5.279e-02 6.146e-02 2.984e-02 3.604e+01\n",
            " 4.954e+01 2.512e+02 4.254e+03 2.226e-01 9.379e-01 1.170e+00 2.910e-01\n",
            " 5.774e-01 1.486e-01]\n",
            "per-feature minimum before scaling:\n",
            " [0. 0. 0. 0. 0. 0. 0. 0. 0. 0. 0. 0. 0. 0. 0. 0. 0. 0. 0. 0. 0. 0. 0. 0.\n",
            " 0. 0. 0. 0. 0. 0.]\n",
            "per-feature maximum before scaling:\n",
            " [1. 1. 1. 1. 1. 1. 1. 1. 1. 1. 1. 1. 1. 1. 1. 1. 1. 1. 1. 1. 1. 1. 1. 1.\n",
            " 1. 1. 1. 1. 1. 1.]\n"
          ]
        }
      ]
    },
    {
      "cell_type": "code",
      "source": [
        "# テストデータを変換\n",
        "X_test_scaled = scaler.transform(X_test)\n",
        "# スケール変換の前後のデータ特性をプリント\n",
        "print(\"per-feature minimum after scaling:\\n {}\".format(X_test_scaled.min(axis=0)))\n",
        "print(\"per-feature maximum after scaling:\\n {}\".format(X_test_scaled.max(axis=0)))"
      ],
      "metadata": {
        "colab": {
          "base_uri": "https://localhost:8080/"
        },
        "id": "VFroMPyEfVq3",
        "outputId": "97d8f026-b3eb-4a78-858a-ff5a50c5d508"
      },
      "execution_count": 9,
      "outputs": [
        {
          "output_type": "stream",
          "name": "stdout",
          "text": [
            "per-feature minimum after scaling:\n",
            " [ 0.0336031   0.0226581   0.03144219  0.01141039  0.14128374  0.04406704\n",
            "  0.          0.          0.1540404  -0.00615249 -0.00137796  0.00594501\n",
            "  0.00430665  0.00079567  0.03919502  0.0112206   0.          0.\n",
            " -0.03191387  0.00664013  0.02660975  0.05810235  0.02031974  0.00943767\n",
            "  0.1094235   0.02637792  0.          0.         -0.00023764 -0.00182032]\n",
            "per-feature maximum after scaling:\n",
            " [0.9578778  0.81501522 0.95577362 0.89353128 0.81132075 1.21958701\n",
            " 0.87956888 0.9333996  0.93232323 1.0371347  0.42669616 0.49765736\n",
            " 0.44117231 0.28371044 0.48703131 0.73863671 0.76717172 0.62928585\n",
            " 1.33685792 0.39057253 0.89612238 0.79317697 0.84859804 0.74488793\n",
            " 0.9154725  1.13188961 1.07008547 0.92371134 1.20532319 1.63068851]\n"
          ]
        }
      ]
    },
    {
      "cell_type": "markdown",
      "source": [
        "trainで学習させたため、MinMaxが0,1になっていない。"
      ],
      "metadata": {
        "id": "POQQvrgTgw5B"
      }
    },
    {
      "cell_type": "markdown",
      "source": [
        "## 3.3.3 訓練データとテストデータを同じように変換する"
      ],
      "metadata": {
        "id": "aBuRdeTFg6bW"
      }
    },
    {
      "cell_type": "code",
      "source": [
        "from sklearn.datasets import make_blobs\n",
        "# 合成データを作成\n",
        "X, _ = make_blobs(n_samples=50, centers=5, random_state=4, cluster_std=2)\n",
        "# 訓練セットとデータセットに分割\n",
        "X_train, X_test = train_test_split(X, random_state=5, test_size=.1)\n",
        "\n",
        "# 訓練セットとテストセットをプロット\n",
        "fig, axes = plt.subplots(1, 3, figsize=(13, 4))\n",
        "axes[0].scatter(X_train[:,0], X_train[:,1], c=mglearn.cm2(0), label=\"Training set\", s=60)\n",
        "axes[0].scatter(X_test[:,0], X_test[:,1], marker='^', c=mglearn.cm2(1), label=\"Test set\", s=60)\n",
        "axes[0].legend(loc='upper left')\n",
        "axes[0].set_title(\"Original Data\")\n",
        "\n",
        "# MinMaxScalerでデータをスケール変換\n",
        "scaler = MinMaxScaler()\n",
        "scaler.fit(X_train)\n",
        "X_train_scaled = scaler.transform(X_train)\n",
        "X_test_scaled = scaler.transform(X_test)\n",
        "\n",
        "# スケール変換されたデータの特性を可視化\n",
        "axes[1].scatter(X_train_scaled[:,0], X_train_scaled[:,1], c=mglearn.cm2(0), label=\"Training set\", s=60)\n",
        "axes[1].scatter(X_test_scaled[:,0], X_test_scaled[:,1], marker='^', c=mglearn.cm2(1), label=\"Test set\", s=60)\n",
        "axes[1].set_title(\"Scaled Data\")\n",
        "\n",
        "# テストセットを訓練セットとは別にスケール変換\n",
        "# 最小値と最大値が0, 1になる。ここでは説明のためにわざとやっている\n",
        "# *実際にはやってはいかない！*\n",
        "test_scaler = MinMaxScaler()\n",
        "test_scaler.fit(X_test)\n",
        "X_test_scaled_badly = test_scaler.transform(X_test)\n",
        "\n",
        "# 間違ってスケール変換されたデータを可視化\n",
        "axes[2].scatter(X_train_scaled[:,0], X_train_scaled[:,1], c=mglearn.cm2(0), label=\"Training set\", s=60)\n",
        "axes[2].scatter(X_test_scaled_badly[:,0], X_test_scaled_badly[:,1], marker='^', c=mglearn.cm2(1), label=\"Test set\", s=60)\n",
        "axes[2].set_title(\"Improperly Scaled Data\")\n",
        "\n",
        "for ax in axes:\n",
        "  ax.set_xlabel(\"Feature 0\")\n",
        "  ax.set_ylabel(\"Feature 1\")"
      ],
      "metadata": {
        "colab": {
          "base_uri": "https://localhost:8080/",
          "height": 419
        },
        "id": "u6mMYtJPhSvp",
        "outputId": "3732342b-a5d9-4fd9-afa1-b13a76b38ef9"
      },
      "execution_count": 17,
      "outputs": [
        {
          "output_type": "stream",
          "name": "stderr",
          "text": [
            "*c* argument looks like a single numeric RGB or RGBA sequence, which should be avoided as value-mapping will have precedence in case its length matches with *x* & *y*.  Please use the *color* keyword-argument or provide a 2-D array with a single row if you intend to specify the same RGB or RGBA value for all points.\n",
            "*c* argument looks like a single numeric RGB or RGBA sequence, which should be avoided as value-mapping will have precedence in case its length matches with *x* & *y*.  Please use the *color* keyword-argument or provide a 2-D array with a single row if you intend to specify the same RGB or RGBA value for all points.\n",
            "*c* argument looks like a single numeric RGB or RGBA sequence, which should be avoided as value-mapping will have precedence in case its length matches with *x* & *y*.  Please use the *color* keyword-argument or provide a 2-D array with a single row if you intend to specify the same RGB or RGBA value for all points.\n",
            "*c* argument looks like a single numeric RGB or RGBA sequence, which should be avoided as value-mapping will have precedence in case its length matches with *x* & *y*.  Please use the *color* keyword-argument or provide a 2-D array with a single row if you intend to specify the same RGB or RGBA value for all points.\n",
            "*c* argument looks like a single numeric RGB or RGBA sequence, which should be avoided as value-mapping will have precedence in case its length matches with *x* & *y*.  Please use the *color* keyword-argument or provide a 2-D array with a single row if you intend to specify the same RGB or RGBA value for all points.\n",
            "*c* argument looks like a single numeric RGB or RGBA sequence, which should be avoided as value-mapping will have precedence in case its length matches with *x* & *y*.  Please use the *color* keyword-argument or provide a 2-D array with a single row if you intend to specify the same RGB or RGBA value for all points.\n"
          ]
        },
        {
          "output_type": "display_data",
          "data": {
            "text/plain": [
              "<Figure size 936x288 with 3 Axes>"
            ],
            "image/png": "[encoded data removed]"
          },
          "metadata": {
            "needs_background": "light"
          }
        }
      ]
    },
    {
      "cell_type": "markdown",
      "source": [
        "## 3.3.4 教師あり学習における前処理の効果"
      ],
      "metadata": {
        "id": "XhGDcVKprXFL"
      }
    },
    {
      "cell_type": "code",
      "source": [
        "from sklearn.svm import SVC\n",
        "X_train, X_test, y_train, y_test = train_test_split(cancer.data, cancer.target, random_state=0)\n",
        "svm = SVC(C=100)\n",
        "svm.fit(X_train, y_train)\n",
        "print(\"Test set accuracy: {:.2f}\".format(svm.score(X_test, y_test)))"
      ],
      "metadata": {
        "colab": {
          "base_uri": "https://localhost:8080/"
        },
        "id": "CdmJCaLBrbnk",
        "outputId": "20508d19-c8a1-4069-bcf8-ef2e729858e2"
      },
      "execution_count": 18,
      "outputs": [
        {
          "output_type": "stream",
          "name": "stdout",
          "text": [
            "Test set accuracy: 0.94\n"
          ]
        }
      ]
    },
    {
      "cell_type": "code",
      "source": [
        "# 0-1スケール変換で前処理\n",
        "scaler = MinMaxScaler()\n",
        "scaler.fit(X_train)\n",
        "X_train_scaled = scaler.transform(X_train)\n",
        "X_test_scaled = scaler.transform(X_test)\n",
        "\n",
        "# 訓練された訓練データで学習\n",
        "svm.fit(X_train_scaled, y_train)\n",
        "\n",
        "# 変換されたテストセットでスコア計算\n",
        "print(\"Scaled test set accuracy: {:.2f}\".format(svm.score(X_test_scaled, y_test)))"
      ],
      "metadata": {
        "colab": {
          "base_uri": "https://localhost:8080/"
        },
        "id": "P_34N_-fsGKY",
        "outputId": "b4f08e83-5d3f-45c0-b7bf-f9963e22984c"
      },
      "execution_count": 19,
      "outputs": [
        {
          "output_type": "stream",
          "name": "stdout",
          "text": [
            "Scaled test set accuracy: 0.97\n"
          ]
        }
      ]
    },
    {
      "cell_type": "code",
      "source": [
        ""
      ],
      "metadata": {
        "id": "BIhwsMkHtOoV"
      },
      "execution_count": null,
      "outputs": []
    }
  ]
}